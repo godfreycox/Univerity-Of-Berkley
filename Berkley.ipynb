{
 "cells": [
  {
   "cell_type": "markdown",
   "metadata": {},
   "source": [
    "# Background:\n",
    "In 1973, the University of California-Berkeley (UC-Berkeley) was sued for sex discrimination. Its admission data showed that men applying to graduate school at UCBerkley were more likely to be admitted than women.\n",
    "\n",
    "The graduate schools had just accepted **44%** of male applicants but only **35%** of female applicants. The diference was so great that it was unlikely to be due to chance.\n",
    "By looking at the data more closely, you may realize that there is more to the story than meets the eye.\n",
    "\n",
    "## Data\n",
    "\n",
    "Why don't you download the [1973 UC-Berkeley Graduate School Admission Data](http://www.calvin.edu/~stob/data/Berkeley.csv) and check it out if you are interested.\n",
    "\n",
    "## Question for you.\n",
    "\n",
    "Now, do you agree that UC-Berkeley discriminated against women during the admission process?\n",
    "Yes or No?"
   ]
  },
  {
   "cell_type": "code",
   "execution_count": 1,
   "metadata": {},
   "outputs": [
    {
     "name": "stdout",
     "output_type": "stream",
     "text": [
      "[['Admitted', 'Male', 'A', '512'], ['Rejected', 'Male', 'A', '313'], ['Admitted', 'Female', 'A', '89'], ['Rejected', 'Female', 'A', '19'], ['Admitted', 'Male', 'B', '353'], ['Rejected', 'Male', 'B', '207'], ['Admitted', 'Female', 'B', '17'], ['Rejected', 'Female', 'B', '8'], ['Admitted', 'Male', 'C', '120'], ['Rejected', 'Male', 'C', '205'], ['Admitted', 'Female', 'C', '202'], ['Rejected', 'Female', 'C', '391'], ['Admitted', 'Male', 'D', '138'], ['Rejected', 'Male', 'D', '279'], ['Admitted', 'Female', 'D', '131'], ['Rejected', 'Female', 'D', '244'], ['Admitted', 'Male', 'E', '53'], ['Rejected', 'Male', 'E', '138'], ['Admitted', 'Female', 'E', '94'], ['Rejected', 'Female', 'E', '299'], ['Admitted', 'Male', 'F', '22'], ['Rejected', 'Male', 'F', '351'], ['Admitted', 'Female', 'F', '24'], ['Rejected', 'Female', 'F', '317']]\n"
     ]
    }
   ],
   "source": [
    "from csv import reader #Importing the csv file to the notebook\n",
    "\n",
    "open_file = open('uv.csv',  encoding='utf8')\n",
    "read_file = reader(open_file)\n",
    "uv = list(read_file) \n",
    "uv_hd = uv[0] #Slicing the header so that it does not cause any errors when indexing data\n",
    "uv = uv[1:]\n",
    "print(uv)"
   ]
  },
  {
   "cell_type": "markdown",
   "metadata": {},
   "source": [
    "## Filtering out admitted and rejected into two seperate lists\n",
    "\n",
    "1. We combined the male and females that where admitted into one list together to use for later\n",
    "2. We also combined the male and females that where not admitted into one list to provide clarity"
   ]
  },
  {
   "cell_type": "code",
   "execution_count": 2,
   "metadata": {},
   "outputs": [
    {
     "name": "stdout",
     "output_type": "stream",
     "text": [
      "[['Admitted', 'Male', 'A', '512'], ['Admitted', 'Female', 'A', '89'], ['Admitted', 'Male', 'B', '353'], ['Admitted', 'Female', 'B', '17'], ['Admitted', 'Male', 'C', '120'], ['Admitted', 'Female', 'C', '202'], ['Admitted', 'Male', 'D', '138'], ['Admitted', 'Female', 'D', '131'], ['Admitted', 'Male', 'E', '53'], ['Admitted', 'Female', 'E', '94'], ['Admitted', 'Male', 'F', '22'], ['Admitted', 'Female', 'F', '24']]\n",
      "[['Rejected', 'Male', 'A', '313'], ['Rejected', 'Female', 'A', '19'], ['Rejected', 'Male', 'B', '207'], ['Rejected', 'Female', 'B', '8'], ['Rejected', 'Male', 'C', '205'], ['Rejected', 'Female', 'C', '391'], ['Rejected', 'Male', 'D', '279'], ['Rejected', 'Female', 'D', '244'], ['Rejected', 'Male', 'E', '138'], ['Rejected', 'Female', 'E', '299'], ['Rejected', 'Male', 'F', '351'], ['Rejected', 'Female', 'F', '317']]\n"
     ]
    }
   ],
   "source": [
    "admitted_combined = []\n",
    "non_admitted_combined = []\n",
    " # seperating admitted and rejected both male and female\n",
    "for row in uv:\n",
    "    title = row[0] \n",
    "    if title.lower().startswith(\"admitted\"):\n",
    "        admitted_combined.append(row)\n",
    "    else:\n",
    "        non_admitted_combined.append(row)\n",
    "print(admitted_combined) \n",
    "print(non_admitted_combined)\n",
    "\n",
    "    "
   ]
  },
  {
   "cell_type": "markdown",
   "metadata": {},
   "source": [
    "## Changing frequency into a integer in order to calculate\n",
    " "
   ]
  },
  {
   "cell_type": "code",
   "execution_count": 3,
   "metadata": {},
   "outputs": [
    {
     "name": "stdout",
     "output_type": "stream",
     "text": [
      "[['Admitted', 'Male', 'A', 512], ['Admitted', 'Female', 'A', 89], ['Admitted', 'Male', 'B', 353], ['Admitted', 'Female', 'B', 17], ['Admitted', 'Male', 'C', 120], ['Admitted', 'Female', 'C', 202], ['Admitted', 'Male', 'D', 138], ['Admitted', 'Female', 'D', 131], ['Admitted', 'Male', 'E', 53], ['Admitted', 'Female', 'E', 94], ['Admitted', 'Male', 'F', 22], ['Admitted', 'Female', 'F', 24]]\n"
     ]
    }
   ],
   "source": [
    "#Changing the frequency from string to integer \n",
    "for row in admitted_combined:\n",
    "    freq = int(row[3])\n",
    "    row[3] = freq\n",
    "    \n",
    "print(admitted_combined)"
   ]
  },
  {
   "cell_type": "code",
   "execution_count": 4,
   "metadata": {},
   "outputs": [
    {
     "name": "stdout",
     "output_type": "stream",
     "text": [
      "[['Rejected', 'Male', 'A', 313], ['Rejected', 'Female', 'A', 19], ['Rejected', 'Male', 'B', 207], ['Rejected', 'Female', 'B', 8], ['Rejected', 'Male', 'C', 205], ['Rejected', 'Female', 'C', 391], ['Rejected', 'Male', 'D', 279], ['Rejected', 'Female', 'D', 244], ['Rejected', 'Male', 'E', 138], ['Rejected', 'Female', 'E', 299], ['Rejected', 'Male', 'F', 351], ['Rejected', 'Female', 'F', 317]]\n"
     ]
    }
   ],
   "source": [
    "\n",
    "for row in non_admitted_combined:\n",
    "    freq = int(row[3])\n",
    "    row[3] = freq\n",
    "    \n",
    "print(non_admitted_combined)"
   ]
  },
  {
   "cell_type": "markdown",
   "metadata": {},
   "source": [
    "## Seperating male and females\n",
    "\n",
    "1. We have to seperate male and females that where admitted in order to calculate the percentage later on."
   ]
  },
  {
   "cell_type": "code",
   "execution_count": 5,
   "metadata": {},
   "outputs": [
    {
     "name": "stdout",
     "output_type": "stream",
     "text": [
      "[['Admitted', 'Male', 'A', 512], ['Admitted', 'Male', 'B', 353], ['Admitted', 'Male', 'C', 120], ['Admitted', 'Male', 'D', 138], ['Admitted', 'Male', 'E', 53], ['Admitted', 'Male', 'F', 22]]\n",
      "[['Admitted', 'Female', 'A', 89], ['Admitted', 'Female', 'B', 17], ['Admitted', 'Female', 'C', 202], ['Admitted', 'Female', 'D', 131], ['Admitted', 'Female', 'E', 94], ['Admitted', 'Female', 'F', 24]]\n"
     ]
    }
   ],
   "source": [
    "male_admitted = []\n",
    "female_admitted = []\n",
    " #Seperating male and females that where admitted into two different lists\n",
    "for row in admitted_combined: \n",
    "    male = row[1]\n",
    "    if male == \"Male\":\n",
    "        male_admitted.append(row)\n",
    "    else:\n",
    "        female_admitted.append(row)\n",
    "        \n",
    "print(male_admitted) \n",
    "print(female_admitted)\n",
    "    "
   ]
  },
  {
   "cell_type": "code",
   "execution_count": 6,
   "metadata": {},
   "outputs": [
    {
     "name": "stdout",
     "output_type": "stream",
     "text": [
      "[['Rejected', 'Male', 'A', 313], ['Rejected', 'Male', 'B', 207], ['Rejected', 'Male', 'C', 205], ['Rejected', 'Male', 'D', 279], ['Rejected', 'Male', 'E', 138], ['Rejected', 'Male', 'F', 351]]\n",
      "[['Rejected', 'Female', 'A', 19], ['Rejected', 'Female', 'B', 8], ['Rejected', 'Female', 'C', 391], ['Rejected', 'Female', 'D', 244], ['Rejected', 'Female', 'E', 299], ['Rejected', 'Female', 'F', 317]]\n"
     ]
    }
   ],
   "source": [
    "male_non_admitted = []\n",
    "female_non_admitted = []\n",
    "#Seperating male and female that where not admitted into two different lists\n",
    "for row in non_admitted_combined:\n",
    "    male = row[1]\n",
    "    if male == \"Male\":\n",
    "        male_non_admitted.append(row)\n",
    "    else:\n",
    "        female_non_admitted.append(row)\n",
    "        \n",
    "print(male_non_admitted)\n",
    "print(female_non_admitted)"
   ]
  },
  {
   "cell_type": "markdown",
   "metadata": {},
   "source": [
    "## Getting the total numbers of admitted and non-admitted"
   ]
  },
  {
   "cell_type": "code",
   "execution_count": 7,
   "metadata": {},
   "outputs": [
    {
     "name": "stdout",
     "output_type": "stream",
     "text": [
      "1198\n"
     ]
    }
   ],
   "source": [
    "male_admitted_freq = []\n",
    "# Adding up all admited males to get a total \n",
    "for row in male_admitted:\n",
    "    freq = row[3]\n",
    "    male_admitted_freq.append(freq) \n",
    "    \n",
    "    total_male_freq = sum(male_admitted_freq) \n",
    "    \n",
    "print(total_male_freq)"
   ]
  },
  {
   "cell_type": "code",
   "execution_count": 8,
   "metadata": {},
   "outputs": [
    {
     "name": "stdout",
     "output_type": "stream",
     "text": [
      "557\n"
     ]
    }
   ],
   "source": [
    "female_admitted_freq = []\n",
    "# Adding up all admited females to get a total\n",
    "for row in female_admitted:\n",
    "    freq = row[3]\n",
    "    female_admitted_freq.append(freq)\n",
    "    \n",
    "total_female_freq = sum(female_admitted_freq)\n",
    "\n",
    "print(total_female_freq)"
   ]
  },
  {
   "cell_type": "code",
   "execution_count": 9,
   "metadata": {},
   "outputs": [
    {
     "name": "stdout",
     "output_type": "stream",
     "text": [
      "1493\n"
     ]
    }
   ],
   "source": [
    "male_non_freq = []\n",
    " # Adding up all non admitted males to get a tota\n",
    "for row in male_non_admitted:\n",
    "    freq = row[3]\n",
    "    male_non_freq.append(freq) \n",
    "    \n",
    "    total_male_non_freq = sum(male_non_freq) \n",
    "    \n",
    "print(total_male_non_freq)"
   ]
  },
  {
   "cell_type": "code",
   "execution_count": 10,
   "metadata": {},
   "outputs": [
    {
     "name": "stdout",
     "output_type": "stream",
     "text": [
      "1278\n"
     ]
    }
   ],
   "source": [
    "female_non_freq = []\n",
    "# Adding up all non admitted females to get a total\n",
    "for row in female_non_admitted:\n",
    "    freq = row[3]\n",
    "    female_non_freq.append(freq) \n",
    "    \n",
    "    total_female_non_freq = sum(female_non_freq)\n",
    "    \n",
    "print(total_female_non_freq)"
   ]
  },
  {
   "cell_type": "markdown",
   "metadata": {},
   "source": [
    "# Conclusion \n",
    "\n",
    "Upon further investigation it is clear that there was a higher total of male to female applicants by 37%.\n",
    "\n",
    "However:\n",
    "\n",
    "1. The likelihood of a male getting accepted is 44.5% \n",
    "2. The likelihood of a female getting accepted is 30.4% \n",
    "3. The likelihood of a male getting rejected is 55.5%\n",
    "4. The likelihood of a female getting rejected is 69.6% \n",
    "\n",
    "After analyzing the dataset there seems to be clear discrimination against women in both categories.However there where more male applicants that applied to the university then women so to find a conclusion would be difficult based on the numbers.\n",
    "\n",
    "\n",
    "\n",
    "\n",
    "\n",
    "\n"
   ]
  },
  {
   "cell_type": "markdown",
   "metadata": {},
   "source": [
    "## Showing it on a bar chart \n",
    "\n",
    "1. Putting the information into a bar chart to show the insight gained about the University of California-Berkeley \n",
    "2. Showing both Male and Females that where admitted in the University\n",
    "3. Showing both Male and Females that where not admitted in the University"
   ]
  },
  {
   "cell_type": "code",
   "execution_count": 11,
   "metadata": {},
   "outputs": [
    {
     "data": {
      "image/png": "[encoded data removed]",
      "text/plain": [
       "<matplotlib.figure.Figure at 0x2aa2c489c50>"
      ]
     },
     "metadata": {},
     "output_type": "display_data"
    }
   ],
   "source": [
    "import numpy as np\n",
    "%matplotlib inline\n",
    "import matplotlib.pyplot as plt\n",
    "\n",
    "all_total_freq = [total_male_freq, total_female_freq, total_male_non_freq, total_female_non_freq ]\n",
    "bars = ('Males Admitted', 'Females Admitted', 'Males Not Admitted', 'Females Not Admitted')\n",
    "y_pos = np.arange(len(bars))\n",
    "\n",
    "plt.barh(y_pos, all_total_freq, color = ['blue','purple']) \n",
    "\n",
    "plt.title('University of California-Berkeley (1973)')\n",
    "plt.xlabel('Amount Of People Admitted')\n",
    "plt.ylabel('Male & Female')\n",
    "\n",
    "\n",
    "plt.yticks(y_pos, bars) \n",
    "\n",
    "\n",
    "\n",
    "plt.show()"
   ]
  },
  {
   "cell_type": "code",
   "execution_count": null,
   "metadata": {},
   "outputs": [],
   "source": []
  }
 ],
 "metadata": {
  "kernelspec": {
   "display_name": "Python 3",
   "language": "python",
   "name": "python3"
  },
  "language_info": {
   "codemirror_mode": {
    "name": "ipython",
    "version": 3
   },
   "file_extension": ".py",
   "mimetype": "text/x-python",
   "name": "python",
   "nbconvert_exporter": "python",
   "pygments_lexer": "ipython3",
   "version": "3.6.4"
  }
 },
 "nbformat": 4,
 "nbformat_minor": 2
}
